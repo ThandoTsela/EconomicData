{
 "cells": [
  {
   "cell_type": "code",
   "execution_count": null,
   "id": "b646e149-2505-4101-a961-7e8e60460fa5",
   "metadata": {},
   "outputs": [],
   "source": [
    "import math\n",
    "import pandas as pd\n",
    "import numpy as np\n",
    "import matplotlib.pyplot as plt\n",
    "import plotly.express as px\n",
    "\n",
    "# Final project\n",
    "# Author: Thando Tsela\n",
    "# Title: Scatter plot on unemployment, electricity, and gdp per capita.\n",
    "# Description: This program collects and cleans up world data on gdp per capita, unemployment, and electricity\n",
    "#              supply. It then plots this data on a scatter plot using plotly.\n",
    "#              \n",
    "\n",
    "\n",
    "# Create a dataframe with poverty rates economics data\n",
    "dfEcon1 = pd.read_csv(\"Electric_power.csv\")\n",
    "dfEcon2 = pd.read_csv(\"Unemployment.csv\")\n",
    "dfEcon3 = pd.read_csv(\"Gdp_perCapita.csv\")\n",
    "\n",
    "# Load the gap minder dataset from plotly\n",
    "import plotly.express as px\n",
    "\n",
    "myList = [str(year) for year in range(1971, 2022)]\n",
    "    \n",
    "# myList = ['1971', '1972', '1972', '1973', '1974', '1975', '1976', '1977', '1978', '1979', '1980', '1981', '1982', '1983', '1984', '1985', '1986', '1987', '1988', '1989', '1990', '1991', '1992', '1993', '1994', '1995', '1996', '1997', '1998', '1999', '2000', '2001', '2002', '2003', '2004', '2005', '2006', '2007', '2008', '2009', '2010', '2011', '2012', '2013', '2014', '2015', '2016', '2017', '2018', '2019', '2020', '2021']\n",
    "\n",
    "# melt the data by country name and year.\n",
    "dfNewEcon1 = dfEcon1.melt(id_vars = ['Country Name'], value_vars = myList, var_name = 'Year', value_name = 'Electricity in kWh per capita')\n",
    "dfNewEcon2 = dfEcon2.melt(id_vars = ['Country Name'], value_vars = myList, var_name = 'Year', value_name = 'Unemployment')\n",
    "dfNewEcon3 = dfEcon3.melt(id_vars = ['Country Name'], value_vars = myList, var_name = 'Year', value_name = 'GDP per Capita')\n",
    "dfNewEcon1 = dfNewEcon1.sort_values(['Country Name', 'Year'])\n",
    "dfNewEcon2 = dfNewEcon2.sort_values(['Country Name', 'Year'])\n",
    "dfNewEcon3 = dfNewEcon3.sort_values(['Country Name', 'Year'])\n",
    "\n",
    "# combine the two datasets\n",
    "dfEconData1 = pd.merge(dfNewEcon1, dfNewEcon2, how = 'left', on = ['Country Name', 'Year'])\n",
    "\n",
    "dfEconData = pd.merge(dfEconData1, dfNewEcon3, how = 'left', on = ['Country Name', 'Year'])\n",
    "#dfEconData['Unemployment'] = dfEconData['Unemployment'].replace(np.NaN, \"0\")\n",
    "#dfEconData['Electricity in kWh per capita'] = dfEconData['Electricity in kWh per capita'].replace(np.NaN, \"0\")\n",
    "dfEconData['GDP per Capita'] = dfEconData['GDP per Capita'].replace(np.NaN, 0)\n",
    "\n"
   ]
  },
  {
   "cell_type": "code",
   "execution_count": 39,
   "id": "15db4694-513b-443a-87d7-bf7a727bb692",
   "metadata": {},
   "outputs": [],
   "source": [
    "fig = px.scatter(dfEconData, \n",
    "                 y=\"Unemployment\", \n",
    "                 x=\"Electricity in kWh per capita\", \n",
    "                 animation_frame=\"Year\", \n",
    "                 animation_group=\"Country Name\", \n",
    "                 size=\"GDP per Capita\", \n",
    "                 hover_name=\"Country Name\", \n",
    "                 range_y=[0,16], \n",
    "                 range_x=[100,10000], \n",
    "                 template = 'plotly_dark')\n",
    "fig.write_html('Electricity_Unemployment_Gdp.html')\n"
   ]
  },
  {
   "cell_type": "code",
   "execution_count": null,
   "id": "8ca20329-4214-4bb2-ac19-0acad70359dc",
   "metadata": {},
   "outputs": [],
   "source": []
  }
 ],
 "metadata": {
  "kernelspec": {
   "display_name": "Python 3 (ipykernel)",
   "language": "python",
   "name": "python3"
  },
  "language_info": {
   "codemirror_mode": {
    "name": "ipython",
    "version": 3
   },
   "file_extension": ".py",
   "mimetype": "text/x-python",
   "name": "python",
   "nbconvert_exporter": "python",
   "pygments_lexer": "ipython3",
   "version": "3.8.11"
  }
 },
 "nbformat": 4,
 "nbformat_minor": 5
}
